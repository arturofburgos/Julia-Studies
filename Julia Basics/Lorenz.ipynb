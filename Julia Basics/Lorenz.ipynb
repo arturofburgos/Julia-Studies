{
 "cells": [
  {
   "cell_type": "code",
   "execution_count": 1,
   "id": "bd4e5caa-2773-4939-a6a7-2fc98ba829be",
   "metadata": {},
   "outputs": [],
   "source": [
    "using Plots, Parameters"
   ]
  },
  {
   "cell_type": "code",
   "execution_count": 2,
   "id": "e09c689b-a126-40fe-8e79-19a6a8ef58cc",
   "metadata": {},
   "outputs": [],
   "source": [
    "mutable struct variaveis{T,D}\n",
    "    tempo::D\n",
    "    velocidade::T\n",
    "    \n",
    "    function variaveis(x::Any, y::Any)\n",
    "        new{typeof(y),typeof(x)}(x,y)\n",
    "    end\n",
    "    \n",
    "end\n"
   ]
  },
  {
   "cell_type": "code",
   "execution_count": 3,
   "id": "18d4b6e0-f543-4106-aff8-1e431fa07f10",
   "metadata": {},
   "outputs": [
    {
     "data": {
      "text/plain": [
       "variaveis{Int64, Vector{Float64}}([1.0, 2.0, 3.0], 1)"
      ]
     },
     "execution_count": 3,
     "metadata": {},
     "output_type": "execute_result"
    }
   ],
   "source": [
    "a = variaveis([1.0,2,3],1)"
   ]
  },
  {
   "cell_type": "code",
   "execution_count": 4,
   "id": "f1431adf-5a0e-418c-a02d-758a5c1e7294",
   "metadata": {},
   "outputs": [
    {
     "data": {
      "text/plain": [
       "1"
      ]
     },
     "execution_count": 4,
     "metadata": {},
     "output_type": "execute_result"
    }
   ],
   "source": [
    "a.velocidade\n"
   ]
  },
  {
   "cell_type": "code",
   "execution_count": 5,
   "id": "f7852489-4dd1-47c5-81a2-882743a6c6cb",
   "metadata": {},
   "outputs": [
    {
     "data": {
      "text/plain": [
       "3-element Vector{Float64}:\n",
       " 1.0\n",
       " 2.0\n",
       " 3.0"
      ]
     },
     "execution_count": 5,
     "metadata": {},
     "output_type": "execute_result"
    }
   ],
   "source": [
    "a.tempo\n"
   ]
  },
  {
   "cell_type": "code",
   "execution_count": 4,
   "id": "b3090010-ba91-454c-b059-d5082aef9b03",
   "metadata": {},
   "outputs": [],
   "source": [
    "mutable struct var{T}\n",
    "    t::T\n",
    "    \n",
    "    \n",
    "    function var(t::Any)\n",
    "        new{typeof(t)}(t)\n",
    "    end\n",
    "end"
   ]
  },
  {
   "cell_type": "code",
   "execution_count": 5,
   "id": "3862c46d-6a88-481e-b451-bf42140d54bc",
   "metadata": {},
   "outputs": [
    {
     "data": {
      "text/plain": [
       "var{Int64}(2)"
      ]
     },
     "execution_count": 5,
     "metadata": {},
     "output_type": "execute_result"
    }
   ],
   "source": [
    "a = var(2)"
   ]
  },
  {
   "cell_type": "code",
   "execution_count": 6,
   "id": "de0d4ba3-507b-402b-a1a0-b0a04e317ce6",
   "metadata": {},
   "outputs": [
    {
     "ename": "LoadError",
     "evalue": "UndefVarError: fields not defined",
     "output_type": "error",
     "traceback": [
      "UndefVarError: fields not defined",
      "",
      "Stacktrace:",
      " [1] top-level scope",
      "   @ In[6]:1",
      " [2] eval",
      "   @ ./boot.jl:373 [inlined]",
      " [3] include_string(mapexpr::typeof(REPL.softscope), mod::Module, code::String, filename::String)",
      "   @ Base ./loading.jl:1196"
     ]
    }
   ],
   "source": [
    "fields(var)"
   ]
  },
  {
   "cell_type": "code",
   "execution_count": 7,
   "id": "8823e16c-f6dd-4716-a3dd-1eee4d2a6309",
   "metadata": {},
   "outputs": [
    {
     "ename": "LoadError",
     "evalue": "type UnionAll has no field fields",
     "output_type": "error",
     "traceback": [
      "type UnionAll has no field fields",
      "",
      "Stacktrace:",
      " [1] getproperty(x::Type, f::Symbol)",
      "   @ Base ./Base.jl:37",
      " [2] top-level scope",
      "   @ In[7]:1",
      " [3] eval",
      "   @ ./boot.jl:373 [inlined]",
      " [4] include_string(mapexpr::typeof(REPL.softscope), mod::Module, code::String, filename::String)",
      "   @ Base ./loading.jl:1196"
     ]
    }
   ],
   "source": [
    "var.fields"
   ]
  },
  {
   "cell_type": "code",
   "execution_count": null,
   "id": "75c3b9bf-948b-4bfc-9509-00b4e9f00586",
   "metadata": {},
   "outputs": [],
   "source": []
  }
 ],
 "metadata": {
  "kernelspec": {
   "display_name": "Julia 1.7.3",
   "language": "julia",
   "name": "julia-1.7"
  },
  "language_info": {
   "file_extension": ".jl",
   "mimetype": "application/julia",
   "name": "julia",
   "version": "1.7.3"
  }
 },
 "nbformat": 4,
 "nbformat_minor": 5
}
