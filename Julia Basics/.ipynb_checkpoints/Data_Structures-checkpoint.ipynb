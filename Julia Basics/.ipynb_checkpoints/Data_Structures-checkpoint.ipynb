{
 "cells": [
  {
   "cell_type": "markdown",
   "id": "b74f271d-9d91-4e40-b64e-3c0464f6e905",
   "metadata": {},
   "source": [
    "# Array"
   ]
  },
  {
   "cell_type": "code",
   "execution_count": 1,
   "id": "50117907-1c54-493f-adb1-6af039b06f3d",
   "metadata": {},
   "outputs": [
    {
     "data": {
      "text/plain": [
       "2×3 Matrix{Float64}:\n",
       " 0.0  0.0  0.0\n",
       " 0.0  0.0  0.0"
      ]
     },
     "execution_count": 1,
     "metadata": {},
     "output_type": "execute_result"
    }
   ],
   "source": [
    "a = Array{Float64}(undef,2,3)"
   ]
  },
  {
   "cell_type": "code",
   "execution_count": 5,
   "id": "43f9d507-e9ca-4b12-ad59-432e0d35725b",
   "metadata": {},
   "outputs": [
    {
     "data": {
      "text/plain": [
       "2×3 Matrix{Float64}:\n",
       " 0.0           6.90216e-310  6.90216e-310\n",
       " 6.90216e-310  0.0           6.90216e-310"
      ]
     },
     "execution_count": 5,
     "metadata": {},
     "output_type": "execute_result"
    }
   ],
   "source": [
    "v = Matrix{Float64}(undef, 2,3)"
   ]
  },
  {
   "cell_type": "code",
   "execution_count": 6,
   "id": "9c1d650d-0c8e-458f-af95-a666185734e4",
   "metadata": {},
   "outputs": [
    {
     "data": {
      "text/plain": [
       "2×3×2 Array{Float64, 3}:\n",
       "[:, :, 1] =\n",
       " 6.90208e-310  6.90208e-310  6.90217e-310\n",
       " 6.90208e-310  6.90208e-310  6.90217e-310\n",
       "\n",
       "[:, :, 2] =\n",
       " 6.90217e-310  6.90208e-310  6.90217e-310\n",
       " 6.90208e-310  6.90208e-310  6.90216e-310"
      ]
     },
     "execution_count": 6,
     "metadata": {},
     "output_type": "execute_result"
    }
   ],
   "source": [
    "a = Array{Float64}(undef,2,3,2) # More dimensions than a Matrix"
   ]
  },
  {
   "cell_type": "code",
   "execution_count": 7,
   "id": "c84ec770-320a-4283-bc67-867c76258378",
   "metadata": {},
   "outputs": [
    {
     "data": {
      "text/plain": [
       "3-element Vector{Int64}:\n",
       " 139701516373616\n",
       " 139701516370144\n",
       " 139701516372993"
      ]
     },
     "execution_count": 7,
     "metadata": {},
     "output_type": "execute_result"
    }
   ],
   "source": [
    "k = Vector{Int64}(undef, 3)"
   ]
  },
  {
   "cell_type": "markdown",
   "id": "2ccc9e37-651a-448b-91a2-41e6d785fc01",
   "metadata": {},
   "source": [
    "# Tuple"
   ]
  },
  {
   "cell_type": "code",
   "execution_count": 8,
   "id": "46fbd8ee-fc35-48dc-9515-57f58b91c317",
   "metadata": {},
   "outputs": [
    {
     "data": {
      "text/plain": [
       "(1, 2, 3)"
      ]
     },
     "execution_count": 8,
     "metadata": {},
     "output_type": "execute_result"
    }
   ],
   "source": [
    "t = (1,2,3)"
   ]
  },
  {
   "cell_type": "code",
   "execution_count": 9,
   "id": "190930e6-6ce2-4620-bf54-fe0725f84f09",
   "metadata": {},
   "outputs": [
    {
     "data": {
      "text/plain": [
       "2"
      ]
     },
     "execution_count": 9,
     "metadata": {},
     "output_type": "execute_result"
    }
   ],
   "source": [
    "t[2]"
   ]
  },
  {
   "cell_type": "code",
   "execution_count": 11,
   "id": "522c5fd1-a73b-4cb4-b5ff-2202d07cc3e4",
   "metadata": {},
   "outputs": [
    {
     "ename": "LoadError",
     "evalue": "MethodError: no method matching setindex!(::Tuple{Int64, Int64, Int64}, ::Int64, ::Int64)",
     "output_type": "error",
     "traceback": [
      "MethodError: no method matching setindex!(::Tuple{Int64, Int64, Int64}, ::Int64, ::Int64)",
      "",
      "Stacktrace:",
      " [1] top-level scope",
      "   @ In[11]:1",
      " [2] eval",
      "   @ ./boot.jl:373 [inlined]",
      " [3] include_string(mapexpr::typeof(REPL.softscope), mod::Module, code::String, filename::String)",
      "   @ Base ./loading.jl:1196"
     ]
    }
   ],
   "source": [
    "t[2] = 4 # Cannot change a value of a tuple"
   ]
  },
  {
   "cell_type": "code",
   "execution_count": 12,
   "id": "10da8055-df31-4ba0-a613-58c350b4b333",
   "metadata": {},
   "outputs": [
    {
     "data": {
      "text/plain": [
       "(a = 1, b = 2, c = 6, d = 10)"
      ]
     },
     "execution_count": 12,
     "metadata": {},
     "output_type": "execute_result"
    }
   ],
   "source": [
    "dic = (a = 1, b = 2, c = 6, d = 10)"
   ]
  },
  {
   "cell_type": "code",
   "execution_count": 13,
   "id": "9cf9d4c6-b48e-480b-9fe9-e62fc01b0e23",
   "metadata": {},
   "outputs": [
    {
     "data": {
      "text/plain": [
       "6"
      ]
     },
     "execution_count": 13,
     "metadata": {},
     "output_type": "execute_result"
    }
   ],
   "source": [
    "dic[3]"
   ]
  },
  {
   "cell_type": "code",
   "execution_count": 14,
   "id": "39bb9059-b642-4d8d-9c5e-1eaa7372218b",
   "metadata": {},
   "outputs": [
    {
     "data": {
      "text/plain": [
       "10"
      ]
     },
     "execution_count": 14,
     "metadata": {},
     "output_type": "execute_result"
    }
   ],
   "source": [
    "dic[4]"
   ]
  },
  {
   "cell_type": "code",
   "execution_count": 15,
   "id": "90e3fab5-f512-4149-844d-b4d4b0d8267c",
   "metadata": {},
   "outputs": [
    {
     "ename": "LoadError",
     "evalue": "BoundsError: attempt to access NamedTuple{(:a, :b, :c, :d), NTuple{4, Int64}} at index [5]",
     "output_type": "error",
     "traceback": [
      "BoundsError: attempt to access NamedTuple{(:a, :b, :c, :d), NTuple{4, Int64}} at index [5]",
      "",
      "Stacktrace:",
      " [1] getindex(t::NamedTuple{(:a, :b, :c, :d), NTuple{4, Int64}}, i::Int64)",
      "   @ Base ./namedtuple.jl:126",
      " [2] top-level scope",
      "   @ In[15]:1",
      " [3] eval",
      "   @ ./boot.jl:373 [inlined]",
      " [4] include_string(mapexpr::typeof(REPL.softscope), mod::Module, code::String, filename::String)",
      "   @ Base ./loading.jl:1196"
     ]
    }
   ],
   "source": [
    "dic[5]"
   ]
  },
  {
   "cell_type": "code",
   "execution_count": 16,
   "id": "85dd48ac-b55d-4481-819f-9d9912dd45b8",
   "metadata": {},
   "outputs": [
    {
     "data": {
      "text/plain": [
       "1"
      ]
     },
     "execution_count": 16,
     "metadata": {},
     "output_type": "execute_result"
    }
   ],
   "source": [
    "dic.a"
   ]
  },
  {
   "cell_type": "code",
   "execution_count": 17,
   "id": "09ad7f77-b79e-4ccc-8f57-1424a7aa11d5",
   "metadata": {},
   "outputs": [
    {
     "data": {
      "text/plain": [
       "6"
      ]
     },
     "execution_count": 17,
     "metadata": {},
     "output_type": "execute_result"
    }
   ],
   "source": [
    "dic.c"
   ]
  },
  {
   "cell_type": "code",
   "execution_count": 18,
   "id": "ebe6ef61-d15e-41e2-b65a-8348e0039979",
   "metadata": {},
   "outputs": [
    {
     "data": {
      "text/plain": [
       "10"
      ]
     },
     "execution_count": 18,
     "metadata": {},
     "output_type": "execute_result"
    }
   ],
   "source": [
    "dic.d"
   ]
  },
  {
   "cell_type": "code",
   "execution_count": 19,
   "id": "c9a4ff86-be88-4e81-bfdf-85e2a03b5a3d",
   "metadata": {},
   "outputs": [
    {
     "data": {
      "text/plain": [
       "(:a, :b, :c, :d)"
      ]
     },
     "execution_count": 19,
     "metadata": {},
     "output_type": "execute_result"
    }
   ],
   "source": [
    "keys(dic)"
   ]
  },
  {
   "cell_type": "code",
   "execution_count": 20,
   "id": "59b7eaf7-af01-4422-8d98-789d387be37b",
   "metadata": {},
   "outputs": [
    {
     "data": {
      "text/plain": [
       "(1, 2, 6, 10)"
      ]
     },
     "execution_count": 20,
     "metadata": {},
     "output_type": "execute_result"
    }
   ],
   "source": [
    "values(dic)"
   ]
  },
  {
   "cell_type": "markdown",
   "id": "eb9481ee-d11e-4e8b-8511-84169419a7c8",
   "metadata": {
    "tags": []
   },
   "source": [
    "# Dictionary"
   ]
  },
  {
   "cell_type": "code",
   "execution_count": 26,
   "id": "1085964a-c572-49e5-a0d3-07900fe396d0",
   "metadata": {},
   "outputs": [
    {
     "data": {
      "text/plain": [
       "Dict{String, Any} with 4 entries:\n",
       "  \"f\" => [2 2 2; 2 2 2; 2 2 2]\n",
       "  \"c\" => 5.7\n",
       "  \"b\" => 2\n",
       "  \"a\" => 3.4"
      ]
     },
     "execution_count": 26,
     "metadata": {},
     "output_type": "execute_result"
    }
   ],
   "source": [
    "z = fill(2,3,3)\n",
    "d = Dict(\"a\" => 3.4, \"b\" => 2, \"c\" => 5.7, \"f\" => z)"
   ]
  },
  {
   "cell_type": "code",
   "execution_count": 28,
   "id": "3e89664a-67de-4391-8201-fa290139b372",
   "metadata": {},
   "outputs": [
    {
     "data": {
      "text/plain": [
       "3×3 Matrix{Int64}:\n",
       " 2  2  2\n",
       " 2  2  2\n",
       " 2  2  2"
      ]
     },
     "execution_count": 28,
     "metadata": {},
     "output_type": "execute_result"
    }
   ],
   "source": [
    "d[\"f\"]"
   ]
  },
  {
   "cell_type": "code",
   "execution_count": 29,
   "id": "a0a8fe72-cedc-4b60-9682-5f2986c5c954",
   "metadata": {},
   "outputs": [
    {
     "data": {
      "text/plain": [
       "3.4"
      ]
     },
     "execution_count": 29,
     "metadata": {},
     "output_type": "execute_result"
    }
   ],
   "source": [
    "d[\"a\"]"
   ]
  }
 ],
 "metadata": {
  "kernelspec": {
   "display_name": "Julia 1.7.3",
   "language": "julia",
   "name": "julia-1.7"
  },
  "language_info": {
   "file_extension": ".jl",
   "mimetype": "application/julia",
   "name": "julia",
   "version": "1.7.3"
  }
 },
 "nbformat": 4,
 "nbformat_minor": 5
}
