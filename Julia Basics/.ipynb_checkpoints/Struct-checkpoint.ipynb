{
 "cells": [
  {
   "cell_type": "code",
   "execution_count": 14,
   "id": "0ebaf42e-bb81-454d-a123-5fd2519bc0a2",
   "metadata": {},
   "outputs": [
    {
     "ename": "LoadError",
     "evalue": "syntax: \"length = 4\" inside type definition is reserved around In[14]:1",
     "output_type": "error",
     "traceback": [
      "syntax: \"length = 4\" inside type definition is reserved around In[14]:1",
      "",
      "Stacktrace:",
      " [1] top-level scope",
      "   @ In[14]:1",
      " [2] eval",
      "   @ ./boot.jl:373 [inlined]",
      " [3] include_string(mapexpr::typeof(REPL.softscope), mod::Module, code::String, filename::String)",
      "   @ Base ./loading.jl:1196"
     ]
    }
   ],
   "source": [
    "struct Prism\n",
    "    length \n",
    "    width\n",
    "    height\n",
    "end"
   ]
  },
  {
   "cell_type": "code",
   "execution_count": 12,
   "id": "05d2a391-f6eb-4d1d-b1a0-0c73170ec726",
   "metadata": {},
   "outputs": [
    {
     "data": {
      "text/plain": [
       "Prism(2.9, 3, 4)"
      ]
     },
     "execution_count": 12,
     "metadata": {},
     "output_type": "execute_result"
    }
   ],
   "source": [
    "p = Prism(2.9,3,4)"
   ]
  },
  {
   "cell_type": "code",
   "execution_count": 13,
   "id": "de8ff044-46aa-4894-8a65-83b8fd899fc4",
   "metadata": {},
   "outputs": [
    {
     "data": {
      "text/plain": [
       "2.9"
      ]
     },
     "execution_count": 13,
     "metadata": {},
     "output_type": "execute_result"
    }
   ],
   "source": [
    "p.length"
   ]
  },
  {
   "cell_type": "code",
   "execution_count": 15,
   "id": "3a09e30e-e182-4671-a67f-1f4dd25bfab7",
   "metadata": {},
   "outputs": [
    {
     "ename": "LoadError",
     "evalue": "syntax: \"k = 3\" inside type definition is reserved around In[15]:1",
     "output_type": "error",
     "traceback": [
      "syntax: \"k = 3\" inside type definition is reserved around In[15]:1",
      "",
      "Stacktrace:",
      " [1] top-level scope",
      "   @ In[15]:1",
      " [2] eval",
      "   @ ./boot.jl:373 [inlined]",
      " [3] include_string(mapexpr::typeof(REPL.softscope), mod::Module, code::String, filename::String)",
      "   @ Base ./loading.jl:1196"
     ]
    }
   ],
   "source": [
    "mutable struct Kind\n",
    "    k::Float64\n",
    "end\n"
   ]
  },
  {
   "cell_type": "code",
   "execution_count": null,
   "id": "4c733b76-8ba5-4591-903e-28b98de3b5e7",
   "metadata": {},
   "outputs": [],
   "source": []
  }
 ],
 "metadata": {
  "kernelspec": {
   "display_name": "Julia 1.7.3",
   "language": "julia",
   "name": "julia-1.7"
  },
  "language_info": {
   "file_extension": ".jl",
   "mimetype": "application/julia",
   "name": "julia",
   "version": "1.7.3"
  }
 },
 "nbformat": 4,
 "nbformat_minor": 5
}
