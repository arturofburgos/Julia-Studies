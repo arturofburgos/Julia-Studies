{
 "cells": [
  {
   "cell_type": "code",
   "execution_count": null,
   "id": "ed1d0e42-9c3f-417b-a398-134b8267daf1",
   "metadata": {},
   "outputs": [],
   "source": []
  }
 ],
 "metadata": {
  "kernelspec": {
   "display_name": "Julia 1.7.3",
   "language": "julia",
   "name": "julia-1.7"
  },
  "language_info": {
   "file_extension": ".jl",
   "mimetype": "application/julia",
   "name": "julia",
   "version": "1.7.3"
  }
 },
 "nbformat": 4,
 "nbformat_minor": 5
}
