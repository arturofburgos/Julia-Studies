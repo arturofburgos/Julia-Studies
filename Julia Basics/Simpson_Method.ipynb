{
 "cells": [
  {
   "cell_type": "code",
   "execution_count": 4,
   "id": "39531099-0824-41a0-8497-0c8a5425d3cb",
   "metadata": {},
   "outputs": [
    {
     "data": {
      "text/plain": [
       "simpson (generic function with 1 method)"
      ]
     },
     "execution_count": 4,
     "metadata": {},
     "output_type": "execute_result"
    }
   ],
   "source": [
    "using QuadGK\n",
    "\n",
    "\n",
    "function main()\n",
    "    \n",
    "    function f(x)\n",
    "        \n",
    "        x^2\n",
    "    end\n",
    "        \n",
    "    \n",
    "    \n",
    "    a = 0 \n",
    "    \n",
    "    b = 3\n",
    "    \n",
    "    n = 4\n",
    "    \n",
    "    println(simpson(f,a,b,n))\n",
    "    \n",
    "    println(quadgk(f,a,b,rtol=1e-8)) # Using a already built-in Julia package\n",
    "            \n",
    "end\n",
    "    \n",
    "    \n",
    "function simpson(func, xinitial, xfinal, N)\n",
    "    \n",
    "    Δx = (xfinal - xinitial)/N\n",
    "    \n",
    "    sum_xinitial_xfinal = func(xinitial) + func(xfinal)\n",
    "    xodd = 0\n",
    "    xeven = 0\n",
    "    \n",
    "    for i in 1:N-1\n",
    "        \n",
    "        x = xinitial + i * Δx\n",
    "        \n",
    "        if i % 2 == 0\n",
    "            \n",
    "            xeven += func(x)\n",
    "            \n",
    "        else\n",
    "            \n",
    "            xodd += func(x)\n",
    "        end\n",
    "    end\n",
    "    \n",
    "    ans = (Δx / 3) * (sum_xinitial_xfinal + 4 * xodd + 2 * xeven)\n",
    "        \n",
    "end"
   ]
  },
  {
   "cell_type": "code",
   "execution_count": 5,
   "id": "fbbc1d2a-13b3-481c-bbf3-749755b9a671",
   "metadata": {},
   "outputs": [
    {
     "name": "stdout",
     "output_type": "stream",
     "text": [
      "9.0\n",
      "(8.999999999999998, 0.0)\n"
     ]
    }
   ],
   "source": [
    "main()"
   ]
  }
 ],
 "metadata": {
  "kernelspec": {
   "display_name": "Julia 1.7.3",
   "language": "julia",
   "name": "julia-1.7"
  },
  "language_info": {
   "file_extension": ".jl",
   "mimetype": "application/julia",
   "name": "julia",
   "version": "1.7.3"
  }
 },
 "nbformat": 4,
 "nbformat_minor": 5
}
