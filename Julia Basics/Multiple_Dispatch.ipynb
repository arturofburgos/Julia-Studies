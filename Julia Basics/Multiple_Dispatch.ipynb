{
 "cells": [
  {
   "cell_type": "code",
   "execution_count": 1,
   "id": "d80e06b2-9542-4c6e-aba1-6f26c427ce83",
   "metadata": {},
   "outputs": [],
   "source": [
    "abstract type Shape end\n",
    "\n",
    "\n",
    "struct Circle <: Shape\n",
    "    r::Real\n",
    "end\n",
    "\n",
    "struct Rectangle <: Shape\n",
    "    l::Real\n",
    "    w::Real\n",
    "end\n",
    "\n",
    "struct Square <: Shape\n",
    "    l::Real\n",
    "end"
   ]
  },
  {
   "cell_type": "code",
   "execution_count": 3,
   "id": "c00bfe50-98de-41e7-bf7b-c9c7330b4521",
   "metadata": {},
   "outputs": [
    {
     "data": {
      "text/plain": [
       "area (generic function with 3 methods)"
      ]
     },
     "execution_count": 3,
     "metadata": {},
     "output_type": "execute_result"
    }
   ],
   "source": [
    "function area(a::Circle)\n",
    "    pi*a.r^2\n",
    "end\n",
    "\n",
    "function area(a::Rectangle)\n",
    "    a.l*a.w\n",
    "end\n",
    "\n",
    "function area(a::Square)\n",
    "    a.l^2\n",
    "end"
   ]
  },
  {
   "cell_type": "code",
   "execution_count": 13,
   "id": "3f585d34-9173-42c0-b2ff-785feb0a6d93",
   "metadata": {},
   "outputs": [
    {
     "name": "stdout",
     "output_type": "stream",
     "text": [
      "Area of the circle is: 28.274333882308138 m^{2}\n",
      "Area of the rectangle is: 20 m^{2}\n",
      "Area of the square is: 25 m^{2}\n"
     ]
    }
   ],
   "source": [
    "function main()\n",
    "    c = Circle(3)\n",
    "    r = Rectangle(4,5)\n",
    "    s = Square(5)\n",
    "    \n",
    "    \n",
    "    println(\"Area of the circle is: \", area(c), \" m^{2}\")\n",
    "    println(\"Area of the rectangle is: \", area(r), \" m^{2}\")\n",
    "    println(\"Area of the square is: \", area(s), \" m^{2}\")\n",
    "    \n",
    "end\n",
    "\n",
    "main()"
   ]
  },
  {
   "cell_type": "code",
   "execution_count": null,
   "id": "3a15fb60-7491-49a1-a152-eb53ae497e1b",
   "metadata": {},
   "outputs": [],
   "source": []
  }
 ],
 "metadata": {
  "kernelspec": {
   "display_name": "Julia 1.7.3",
   "language": "julia",
   "name": "julia-1.7"
  },
  "language_info": {
   "file_extension": ".jl",
   "mimetype": "application/julia",
   "name": "julia",
   "version": "1.7.3"
  }
 },
 "nbformat": 4,
 "nbformat_minor": 5
}
