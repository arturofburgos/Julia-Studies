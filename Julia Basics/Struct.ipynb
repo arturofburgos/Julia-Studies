{
 "cells": [
  {
   "cell_type": "code",
   "execution_count": 1,
   "id": "0ebaf42e-bb81-454d-a123-5fd2519bc0a2",
   "metadata": {},
   "outputs": [],
   "source": [
    "abstract type All end\n",
    "\n",
    "struct Prism <: All\n",
    "    length::Float64\n",
    "    width\n",
    "    height\n",
    "end"
   ]
  },
  {
   "cell_type": "code",
   "execution_count": 2,
   "id": "05d2a391-f6eb-4d1d-b1a0-0c73170ec726",
   "metadata": {},
   "outputs": [
    {
     "data": {
      "text/plain": [
       "Prism(2.9, 3, 4)"
      ]
     },
     "execution_count": 2,
     "metadata": {},
     "output_type": "execute_result"
    }
   ],
   "source": [
    "p = Prism(2.9,3,4)"
   ]
  },
  {
   "cell_type": "code",
   "execution_count": 3,
   "id": "de8ff044-46aa-4894-8a65-83b8fd899fc4",
   "metadata": {},
   "outputs": [
    {
     "data": {
      "text/plain": [
       "Prism(2.0, 3, 4)"
      ]
     },
     "execution_count": 3,
     "metadata": {},
     "output_type": "execute_result"
    }
   ],
   "source": [
    "p = Prism(2,3,4) "
   ]
  },
  {
   "cell_type": "markdown",
   "id": "940a43a0-0b8e-48ec-8e17-aeadb7cda413",
   "metadata": {},
   "source": [
    "Notice that did not acuse any error since im biding a new value for P each time. However this is not true for:"
   ]
  },
  {
   "cell_type": "code",
   "execution_count": 4,
   "id": "9a00bc41-add8-4f05-8df8-f8c95a97ca45",
   "metadata": {},
   "outputs": [
    {
     "ename": "LoadError",
     "evalue": "setfield!: immutable struct of type Prism cannot be changed",
     "output_type": "error",
     "traceback": [
      "setfield!: immutable struct of type Prism cannot be changed",
      "",
      "Stacktrace:",
      " [1] setproperty!(x::Prism, f::Symbol, v::Int64)",
      "   @ Base ./Base.jl:43",
      " [2] top-level scope",
      "   @ In[4]:1",
      " [3] eval",
      "   @ ./boot.jl:373 [inlined]",
      " [4] include_string(mapexpr::typeof(REPL.softscope), mod::Module, code::String, filename::String)",
      "   @ Base ./loading.jl:1196"
     ]
    }
   ],
   "source": [
    "p.width = 4 # this is an umutable stuct"
   ]
  },
  {
   "cell_type": "code",
   "execution_count": 5,
   "id": "008ba1cd-a31f-4568-852c-7dc9c0aa9d26",
   "metadata": {},
   "outputs": [
    {
     "data": {
      "text/plain": [
       "3"
      ]
     },
     "execution_count": 5,
     "metadata": {},
     "output_type": "execute_result"
    }
   ],
   "source": [
    "p.width"
   ]
  },
  {
   "cell_type": "code",
   "execution_count": 6,
   "id": "769d14ee-7784-44f2-88ef-65b77290f3d5",
   "metadata": {},
   "outputs": [
    {
     "data": {
      "text/plain": [
       "vol (generic function with 1 method)"
      ]
     },
     "execution_count": 6,
     "metadata": {},
     "output_type": "execute_result"
    }
   ],
   "source": [
    "function vol(p::Prism)\n",
    "    v = p.length * p.width * p.height\n",
    "end"
   ]
  },
  {
   "cell_type": "code",
   "execution_count": 8,
   "id": "49c104f1-00e1-4531-b3ef-fdbabe9ea0b0",
   "metadata": {},
   "outputs": [
    {
     "name": "stdout",
     "output_type": "stream",
     "text": [
      "24.0\n"
     ]
    }
   ],
   "source": [
    "println(vol(p))"
   ]
  },
  {
   "cell_type": "code",
   "execution_count": 16,
   "id": "1f31c37f-c335-436f-8a16-1f22b264b600",
   "metadata": {},
   "outputs": [],
   "source": [
    "struct Prisma\n",
    "    length::Float64\n",
    "    width::Float64\n",
    "    height::Float64\n",
    "    \n",
    "    function Prisma()\n",
    "        new(1,1,1) # This new() function is used to construct a new struct \n",
    "    end\n",
    "    \n",
    "    function Prisma(l::Float64, w::Float64, h::Float64)\n",
    "        if l < 0 || w < 0 || h < 0\n",
    "            error(\"Cannot have negative number!\")\n",
    "        elseif w < l\n",
    "            error(\"Cannot have width shorter than length!\")\n",
    "        else\n",
    "            new(l,w,h)\n",
    "        end\n",
    "    end\n",
    "end"
   ]
  },
  {
   "cell_type": "code",
   "execution_count": 12,
   "id": "b89e03ca-f728-48df-9afd-80ea94710ed4",
   "metadata": {},
   "outputs": [
    {
     "data": {
      "text/plain": [
       "Prisma(1.0, 1.0, 1.0)"
      ]
     },
     "execution_count": 12,
     "metadata": {},
     "output_type": "execute_result"
    }
   ],
   "source": [
    "p = Prisma()"
   ]
  },
  {
   "cell_type": "code",
   "execution_count": 13,
   "id": "ac84cae2-b474-4076-b990-57c10b3de726",
   "metadata": {},
   "outputs": [
    {
     "data": {
      "text/plain": [
       "1.0"
      ]
     },
     "execution_count": 13,
     "metadata": {},
     "output_type": "execute_result"
    }
   ],
   "source": [
    "p.height"
   ]
  },
  {
   "cell_type": "code",
   "execution_count": 14,
   "id": "afbdc8ca-0ce8-4fc4-8cea-9a1b9f918190",
   "metadata": {},
   "outputs": [
    {
     "data": {
      "text/plain": [
       "1.0"
      ]
     },
     "execution_count": 14,
     "metadata": {},
     "output_type": "execute_result"
    }
   ],
   "source": [
    "p.length"
   ]
  },
  {
   "cell_type": "code",
   "execution_count": 15,
   "id": "08206e11-48fe-4e1a-be97-b7ac67882bc3",
   "metadata": {},
   "outputs": [
    {
     "data": {
      "text/plain": [
       "1.0"
      ]
     },
     "execution_count": 15,
     "metadata": {},
     "output_type": "execute_result"
    }
   ],
   "source": [
    "p.width"
   ]
  },
  {
   "cell_type": "code",
   "execution_count": 18,
   "id": "b3dd415f-4bc4-4ade-8cc1-5114d7a63078",
   "metadata": {},
   "outputs": [
    {
     "data": {
      "text/plain": [
       "Prisma(1.0, 2.0, 3.0)"
      ]
     },
     "execution_count": 18,
     "metadata": {},
     "output_type": "execute_result"
    }
   ],
   "source": [
    "pt = Prisma(1.0,2.0,3.0)"
   ]
  },
  {
   "cell_type": "code",
   "execution_count": 20,
   "id": "03a8ff78-b1f4-4736-8441-740dcf23eb86",
   "metadata": {},
   "outputs": [
    {
     "data": {
      "text/plain": [
       "1.0"
      ]
     },
     "execution_count": 20,
     "metadata": {},
     "output_type": "execute_result"
    }
   ],
   "source": [
    "pt.length"
   ]
  },
  {
   "cell_type": "code",
   "execution_count": 21,
   "id": "fc4aa68d-11b0-49eb-a04d-6d367d9b3845",
   "metadata": {},
   "outputs": [
    {
     "data": {
      "text/plain": [
       "2.0"
      ]
     },
     "execution_count": 21,
     "metadata": {},
     "output_type": "execute_result"
    }
   ],
   "source": [
    "pt.width"
   ]
  },
  {
   "cell_type": "code",
   "execution_count": 22,
   "id": "110c7663-fad3-4552-b6d6-cc7776e9a5eb",
   "metadata": {},
   "outputs": [
    {
     "data": {
      "text/plain": [
       "3.0"
      ]
     },
     "execution_count": 22,
     "metadata": {},
     "output_type": "execute_result"
    }
   ],
   "source": [
    "pt.height"
   ]
  },
  {
   "cell_type": "code",
   "execution_count": 24,
   "id": "04963c88-7e10-4b6c-aed0-23e1f6e7f564",
   "metadata": {},
   "outputs": [
    {
     "data": {
      "text/plain": [
       "6.0"
      ]
     },
     "execution_count": 24,
     "metadata": {},
     "output_type": "execute_result"
    }
   ],
   "source": [
    "function vol(p::Prisma)\n",
    "    v = p.length * p.width * p.height\n",
    "end\n",
    "vol(pt)"
   ]
  },
  {
   "cell_type": "code",
   "execution_count": 25,
   "id": "77512ff3-6dee-48c2-9e9e-d26abfc1dc50",
   "metadata": {},
   "outputs": [
    {
     "ename": "LoadError",
     "evalue": "Cannot have negative number!",
     "output_type": "error",
     "traceback": [
      "Cannot have negative number!",
      "",
      "Stacktrace:",
      " [1] error(s::String)",
      "   @ Base ./error.jl:33",
      " [2] Prisma(l::Float64, w::Float64, h::Float64)",
      "   @ Main ./In[16]:12",
      " [3] top-level scope",
      "   @ In[25]:1",
      " [4] eval",
      "   @ ./boot.jl:373 [inlined]",
      " [5] include_string(mapexpr::typeof(REPL.softscope), mod::Module, code::String, filename::String)",
      "   @ Base ./loading.jl:1196"
     ]
    }
   ],
   "source": [
    "pteste = Prisma(-1.0,3.0,2.0)"
   ]
  },
  {
   "cell_type": "markdown",
   "id": "9ebd0176-d3fb-417a-bd47-f0c7165c99f9",
   "metadata": {},
   "source": [
    "It is possible to create the Struct inside or outside the own Struct, in the next example we create outside:"
   ]
  },
  {
   "cell_type": "code",
   "execution_count": 1,
   "id": "38d02081-da37-46f2-8213-cfccee9d080f",
   "metadata": {},
   "outputs": [],
   "source": [
    "mutable struct Circle\n",
    "    radius\n",
    "end"
   ]
  },
  {
   "cell_type": "code",
   "execution_count": 2,
   "id": "ad6f2d3a-7367-4eaa-a26f-6392cbacc6e2",
   "metadata": {},
   "outputs": [
    {
     "data": {
      "text/plain": [
       "circ (generic function with 1 method)"
      ]
     },
     "execution_count": 2,
     "metadata": {},
     "output_type": "execute_result"
    }
   ],
   "source": [
    "function circ(r::Real)\n",
    "    Circle(r)\n",
    "end    "
   ]
  },
  {
   "cell_type": "code",
   "execution_count": 4,
   "id": "35840f80-a659-4220-aa1e-b91996dd944e",
   "metadata": {},
   "outputs": [
    {
     "data": {
      "text/plain": [
       "Circle(4)"
      ]
     },
     "execution_count": 4,
     "metadata": {},
     "output_type": "execute_result"
    }
   ],
   "source": [
    "c = circ(4)"
   ]
  },
  {
   "cell_type": "code",
   "execution_count": 7,
   "id": "24ee836a-c632-45fe-94b7-1de78058dc74",
   "metadata": {},
   "outputs": [
    {
     "name": "stdout",
     "output_type": "stream",
     "text": [
      "Circle\n"
     ]
    }
   ],
   "source": [
    "println(typeof(c))"
   ]
  },
  {
   "cell_type": "code",
   "execution_count": 6,
   "id": "77171645-ada6-4096-97eb-9320bf889ebb",
   "metadata": {},
   "outputs": [
    {
     "name": "stdout",
     "output_type": "stream",
     "text": [
      "4\n"
     ]
    }
   ],
   "source": [
    "println(c.radius)"
   ]
  },
  {
   "cell_type": "code",
   "execution_count": 8,
   "id": "e1ac86b7-f84c-471d-a9b1-0dc6277973f3",
   "metadata": {},
   "outputs": [
    {
     "data": {
      "text/plain": [
       "6"
      ]
     },
     "execution_count": 8,
     "metadata": {},
     "output_type": "execute_result"
    }
   ],
   "source": [
    "c.radius = 6 "
   ]
  },
  {
   "cell_type": "code",
   "execution_count": 10,
   "id": "79da76ae-7477-4b2a-97a3-bcbb207fdb5e",
   "metadata": {},
   "outputs": [],
   "source": [
    "struct Square\n",
    "    a::Real\n",
    "end"
   ]
  },
  {
   "cell_type": "code",
   "execution_count": 11,
   "id": "baae44b8-cd21-42ee-b387-31dc0b4b9a6a",
   "metadata": {},
   "outputs": [
    {
     "data": {
      "text/plain": [
       "make_square (generic function with 1 method)"
      ]
     },
     "execution_count": 11,
     "metadata": {},
     "output_type": "execute_result"
    }
   ],
   "source": [
    "function make_square(k)\n",
    "    Square(k)\n",
    "end"
   ]
  },
  {
   "cell_type": "code",
   "execution_count": 12,
   "id": "2a3d7a4d-a1af-43d8-9434-eec73b5cffbe",
   "metadata": {},
   "outputs": [
    {
     "data": {
      "text/plain": [
       "Square(4)"
      ]
     },
     "execution_count": 12,
     "metadata": {},
     "output_type": "execute_result"
    }
   ],
   "source": [
    "var = make_square(4)"
   ]
  },
  {
   "cell_type": "code",
   "execution_count": 13,
   "id": "973f3b41-5672-4847-8221-ccbfc6787dff",
   "metadata": {},
   "outputs": [
    {
     "data": {
      "text/plain": [
       "4"
      ]
     },
     "execution_count": 13,
     "metadata": {},
     "output_type": "execute_result"
    }
   ],
   "source": [
    "var.a"
   ]
  },
  {
   "cell_type": "code",
   "execution_count": 14,
   "id": "5d76e363-3226-4ec5-82c5-14266b135433",
   "metadata": {},
   "outputs": [
    {
     "ename": "LoadError",
     "evalue": "setfield!: immutable struct of type Square cannot be changed",
     "output_type": "error",
     "traceback": [
      "setfield!: immutable struct of type Square cannot be changed",
      "",
      "Stacktrace:",
      " [1] setproperty!(x::Square, f::Symbol, v::Int64)",
      "   @ Base ./Base.jl:43",
      " [2] top-level scope",
      "   @ In[14]:1",
      " [3] eval",
      "   @ ./boot.jl:373 [inlined]",
      " [4] include_string(mapexpr::typeof(REPL.softscope), mod::Module, code::String, filename::String)",
      "   @ Base ./loading.jl:1196"
     ]
    }
   ],
   "source": [
    "var.a = 6 "
   ]
  },
  {
   "cell_type": "code",
   "execution_count": 17,
   "id": "f93a0ccb-dc7c-4107-bc36-759e7246bc5f",
   "metadata": {},
   "outputs": [],
   "source": [
    "mutable struct Length\n",
    "    size::Real\n",
    "    \n",
    "    function Length(s::Real)\n",
    "        new(s)\n",
    "    end\n",
    "end    "
   ]
  },
  {
   "cell_type": "code",
   "execution_count": 18,
   "id": "4be16399-9eae-46e0-85f6-8c9546cf92e2",
   "metadata": {},
   "outputs": [
    {
     "data": {
      "text/plain": [
       "Length(6.78)"
      ]
     },
     "execution_count": 18,
     "metadata": {},
     "output_type": "execute_result"
    }
   ],
   "source": [
    "var = Length(6.78)"
   ]
  },
  {
   "cell_type": "code",
   "execution_count": 19,
   "id": "6ebbf391-cb74-41f0-9cb1-2196423907b5",
   "metadata": {},
   "outputs": [
    {
     "data": {
      "text/plain": [
       "6.78"
      ]
     },
     "execution_count": 19,
     "metadata": {},
     "output_type": "execute_result"
    }
   ],
   "source": [
    "var.size"
   ]
  },
  {
   "cell_type": "code",
   "execution_count": 20,
   "id": "67d206ec-5756-45e8-99c1-fcfb7afdd9fe",
   "metadata": {},
   "outputs": [
    {
     "data": {
      "text/plain": [
       "7"
      ]
     },
     "execution_count": 20,
     "metadata": {},
     "output_type": "execute_result"
    }
   ],
   "source": [
    "var.size = 7"
   ]
  },
  {
   "cell_type": "markdown",
   "id": "c361eb99-0637-472f-accd-18788a741a4a",
   "metadata": {},
   "source": [
    "As it was possible to aside, we can built structs with different ways, where we can construct within the struct or outer."
   ]
  }
 ],
 "metadata": {
  "kernelspec": {
   "display_name": "Julia 1.7.3",
   "language": "julia",
   "name": "julia-1.7"
  },
  "language_info": {
   "file_extension": ".jl",
   "mimetype": "application/julia",
   "name": "julia",
   "version": "1.7.3"
  }
 },
 "nbformat": 4,
 "nbformat_minor": 5
}
