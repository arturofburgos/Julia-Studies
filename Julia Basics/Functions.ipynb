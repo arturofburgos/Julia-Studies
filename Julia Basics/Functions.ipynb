{
 "cells": [
  {
   "cell_type": "code",
   "execution_count": 9,
   "id": "ed1d0e42-9c3f-417b-a398-134b8267daf1",
   "metadata": {},
   "outputs": [
    {
     "name": "stdout",
     "output_type": "stream",
     "text": [
      "31.41592653589793\n"
     ]
    }
   ],
   "source": [
    "function main()\n",
    "    println(circ(5))\n",
    "    \n",
    "end\n",
    "\n",
    "function circ(r)\n",
    "    \n",
    "    2 * pi * r\n",
    "    \n",
    "end\n",
    "\n",
    "main()"
   ]
  },
  {
   "cell_type": "code",
   "execution_count": 21,
   "id": "531b724e-98b9-45a3-a693-8001eed7f203",
   "metadata": {},
   "outputs": [
    {
     "data": {
      "text/plain": [
       "6"
      ]
     },
     "execution_count": 21,
     "metadata": {},
     "output_type": "execute_result"
    }
   ],
   "source": [
    "x = 3\n",
    "\n",
    "function two_times(n)\n",
    "    2 * n\n",
    "end\n",
    "\n",
    "two_times(x)"
   ]
  },
  {
   "cell_type": "code",
   "execution_count": 22,
   "id": "4072d6e1-0770-4017-8453-99d7e5964d0d",
   "metadata": {},
   "outputs": [
    {
     "data": {
      "text/plain": [
       "3"
      ]
     },
     "execution_count": 22,
     "metadata": {},
     "output_type": "execute_result"
    }
   ],
   "source": [
    "x"
   ]
  },
  {
   "cell_type": "markdown",
   "id": "66c14e29-fded-462c-93ce-fd62f19cf68e",
   "metadata": {},
   "source": [
    "In order to assign the value of the function to x we must do:"
   ]
  },
  {
   "cell_type": "code",
   "execution_count": 23,
   "id": "643bdaac-128e-4ef0-b5b4-ef9d04175b74",
   "metadata": {},
   "outputs": [
    {
     "data": {
      "text/plain": [
       "6"
      ]
     },
     "execution_count": 23,
     "metadata": {},
     "output_type": "execute_result"
    }
   ],
   "source": [
    "x = two_times(x)"
   ]
  },
  {
   "cell_type": "markdown",
   "id": "33c3280d-0249-4a7e-85a6-828d45fc2fc5",
   "metadata": {},
   "source": [
    "anonymous fucntion"
   ]
  },
  {
   "cell_type": "code",
   "execution_count": 30,
   "id": "022a97ef-e783-4011-8eff-2f51a3e44c63",
   "metadata": {},
   "outputs": [
    {
     "data": {
      "text/plain": [
       "2×3 Matrix{Int64}:\n",
       " 2   4   6\n",
       " 8  10  12"
      ]
     },
     "execution_count": 30,
     "metadata": {},
     "output_type": "execute_result"
    }
   ],
   "source": [
    "domain = [1 2 3; 4 5 6]\n",
    "\n",
    "map(x -> 2 * x, domain)"
   ]
  },
  {
   "cell_type": "markdown",
   "id": "7cc857e6-7b68-4c7b-b69a-5124f096d4a1",
   "metadata": {},
   "source": [
    "We can define the type of each argument using:"
   ]
  },
  {
   "cell_type": "code",
   "execution_count": 33,
   "id": "41fe2db0-3b63-4f93-8205-60eab87a2321",
   "metadata": {},
   "outputs": [
    {
     "data": {
      "text/plain": [
       "three_times (generic function with 1 method)"
      ]
     },
     "execution_count": 33,
     "metadata": {},
     "output_type": "execute_result"
    }
   ],
   "source": [
    "function three_times(n::Int64)\n",
    "    n = 3 * n\n",
    "    return n \n",
    "end"
   ]
  },
  {
   "cell_type": "code",
   "execution_count": 34,
   "id": "c60a597b-3562-46d0-9139-5cf330913dad",
   "metadata": {},
   "outputs": [
    {
     "data": {
      "text/plain": [
       "12"
      ]
     },
     "execution_count": 34,
     "metadata": {},
     "output_type": "execute_result"
    }
   ],
   "source": [
    "three_times(4)"
   ]
  },
  {
   "cell_type": "code",
   "execution_count": 35,
   "id": "d2591c36-cefc-45e6-ba86-4be69363fbf1",
   "metadata": {},
   "outputs": [
    {
     "ename": "LoadError",
     "evalue": "MethodError: no method matching three_times(::Float64)\n\u001b[0mClosest candidates are:\n\u001b[0m  three_times(\u001b[91m::Int64\u001b[39m) at In[33]:1",
     "output_type": "error",
     "traceback": [
      "MethodError: no method matching three_times(::Float64)\n\u001b[0mClosest candidates are:\n\u001b[0m  three_times(\u001b[91m::Int64\u001b[39m) at In[33]:1",
      "",
      "Stacktrace:",
      " [1] top-level scope",
      "   @ In[35]:1",
      " [2] eval",
      "   @ ./boot.jl:373 [inlined]",
      " [3] include_string(mapexpr::typeof(REPL.softscope), mod::Module, code::String, filename::String)",
      "   @ Base ./loading.jl:1196"
     ]
    }
   ],
   "source": [
    "three_times(4.5)"
   ]
  },
  {
   "cell_type": "code",
   "execution_count": 39,
   "id": "d471f81b-6b49-4e87-8025-8cecc237f4a0",
   "metadata": {},
   "outputs": [
    {
     "data": {
      "text/plain": [
       "three_times (generic function with 2 methods)"
      ]
     },
     "execution_count": 39,
     "metadata": {},
     "output_type": "execute_result"
    }
   ],
   "source": [
    "x = 5.1\n",
    "\n",
    "\n",
    "function three_times(n::Float64)\n",
    "    n = 3 * n\n",
    "    return n \n",
    "end"
   ]
  },
  {
   "cell_type": "code",
   "execution_count": 37,
   "id": "99b9db90-f895-420d-af22-8b70bb7b806e",
   "metadata": {},
   "outputs": [
    {
     "data": {
      "text/plain": [
       "12"
      ]
     },
     "execution_count": 37,
     "metadata": {},
     "output_type": "execute_result"
    }
   ],
   "source": [
    "three_times(4)"
   ]
  },
  {
   "cell_type": "code",
   "execution_count": 38,
   "id": "33d94f02-a3bd-49c8-be77-892c07b8007a",
   "metadata": {},
   "outputs": [
    {
     "data": {
      "text/plain": [
       "13.68"
      ]
     },
     "execution_count": 38,
     "metadata": {},
     "output_type": "execute_result"
    }
   ],
   "source": [
    "three_times(4.56)"
   ]
  },
  {
   "cell_type": "code",
   "execution_count": 40,
   "id": "772b6dcc-b726-4e69-bf57-0b6f8f4e9a13",
   "metadata": {},
   "outputs": [
    {
     "data": {
      "text/plain": [
       "5.1"
      ]
     },
     "execution_count": 40,
     "metadata": {},
     "output_type": "execute_result"
    }
   ],
   "source": [
    "x "
   ]
  },
  {
   "cell_type": "code",
   "execution_count": 41,
   "id": "cc064dc5-b0fe-4b76-9cef-88bf56bbcf3d",
   "metadata": {},
   "outputs": [
    {
     "data": {
      "text/plain": [
       "15.299999999999999"
      ]
     },
     "execution_count": 41,
     "metadata": {},
     "output_type": "execute_result"
    }
   ],
   "source": [
    "x = three_times(x)"
   ]
  },
  {
   "cell_type": "code",
   "execution_count": 42,
   "id": "4fe21e37-8d80-422d-91a7-07680a8c96de",
   "metadata": {},
   "outputs": [
    {
     "data": {
      "text/plain": [
       "15.299999999999999"
      ]
     },
     "execution_count": 42,
     "metadata": {},
     "output_type": "execute_result"
    }
   ],
   "source": [
    "x"
   ]
  },
  {
   "cell_type": "code",
   "execution_count": 43,
   "id": "3a5d5740-f097-4562-a275-5c5fdb576351",
   "metadata": {},
   "outputs": [
    {
     "data": {
      "text/plain": [
       "U (generic function with 1 method)"
      ]
     },
     "execution_count": 43,
     "metadata": {},
     "output_type": "execute_result"
    }
   ],
   "source": [
    "function U(m , n; g)\n",
    "    m * g * n\n",
    "    \n",
    "end"
   ]
  },
  {
   "cell_type": "code",
   "execution_count": 44,
   "id": "1ff5e675-d46a-40e8-b7dd-8db301c6437e",
   "metadata": {},
   "outputs": [
    {
     "ename": "LoadError",
     "evalue": "MethodError: no method matching U(::Int64, ::Int64, ::Int64)\n\u001b[0mClosest candidates are:\n\u001b[0m  U(::Any, ::Any; g) at In[43]:1",
     "output_type": "error",
     "traceback": [
      "MethodError: no method matching U(::Int64, ::Int64, ::Int64)\n\u001b[0mClosest candidates are:\n\u001b[0m  U(::Any, ::Any; g) at In[43]:1",
      "",
      "Stacktrace:",
      " [1] top-level scope",
      "   @ In[44]:1",
      " [2] eval",
      "   @ ./boot.jl:373 [inlined]",
      " [3] include_string(mapexpr::typeof(REPL.softscope), mod::Module, code::String, filename::String)",
      "   @ Base ./loading.jl:1196"
     ]
    }
   ],
   "source": [
    "U(10,10,10)"
   ]
  },
  {
   "cell_type": "code",
   "execution_count": 45,
   "id": "e487d42a-d858-4b5a-aff0-d12d1375cd1f",
   "metadata": {},
   "outputs": [
    {
     "ename": "LoadError",
     "evalue": "syntax: invalid keyword argument syntax \"10\" around In[45]:1",
     "output_type": "error",
     "traceback": [
      "syntax: invalid keyword argument syntax \"10\" around In[45]:1",
      "",
      "Stacktrace:",
      " [1] top-level scope",
      "   @ In[45]:1",
      " [2] eval",
      "   @ ./boot.jl:373 [inlined]",
      " [3] include_string(mapexpr::typeof(REPL.softscope), mod::Module, code::String, filename::String)",
      "   @ Base ./loading.jl:1196"
     ]
    }
   ],
   "source": [
    "U(10,10;10)"
   ]
  },
  {
   "cell_type": "code",
   "execution_count": 46,
   "id": "0feac37d-bf7c-4ca9-8922-3cb9831309b9",
   "metadata": {},
   "outputs": [
    {
     "data": {
      "text/plain": [
       "1000"
      ]
     },
     "execution_count": 46,
     "metadata": {},
     "output_type": "execute_result"
    }
   ],
   "source": [
    "U(10,10; g = 10)"
   ]
  },
  {
   "cell_type": "code",
   "execution_count": 47,
   "id": "3d224441-d390-4c2a-984e-3b40cd18f6f6",
   "metadata": {},
   "outputs": [
    {
     "data": {
      "text/plain": [
       "1000"
      ]
     },
     "execution_count": 47,
     "metadata": {},
     "output_type": "execute_result"
    }
   ],
   "source": [
    "U(10,10, g = 10)"
   ]
  },
  {
   "cell_type": "code",
   "execution_count": 48,
   "id": "85c50470-d7b1-439f-b777-1bd1f8d1717a",
   "metadata": {},
   "outputs": [
    {
     "data": {
      "text/plain": [
       "V (generic function with 1 method)"
      ]
     },
     "execution_count": 48,
     "metadata": {},
     "output_type": "execute_result"
    }
   ],
   "source": [
    "function V(m, n; g = -1)\n",
    "    m * g * n\n",
    "end    "
   ]
  },
  {
   "cell_type": "code",
   "execution_count": 51,
   "id": "69e63bf5-9f09-4c3e-b91d-de189aabf2a5",
   "metadata": {},
   "outputs": [
    {
     "data": {
      "text/plain": [
       "-100"
      ]
     },
     "execution_count": 51,
     "metadata": {},
     "output_type": "execute_result"
    }
   ],
   "source": [
    "V(10,10) # I can call this function whitout g since it's default argument"
   ]
  },
  {
   "cell_type": "code",
   "execution_count": 53,
   "id": "7a7454ff-292d-47d0-908a-6050234f20b2",
   "metadata": {},
   "outputs": [
    {
     "data": {
      "text/plain": [
       "300"
      ]
     },
     "execution_count": 53,
     "metadata": {},
     "output_type": "execute_result"
    }
   ],
   "source": [
    "V(10,10, g = 3) # I can change the value of g though"
   ]
  },
  {
   "cell_type": "code",
   "execution_count": 56,
   "id": "e92f9bd0-8cb1-47b3-9e2b-36d72a68eed8",
   "metadata": {},
   "outputs": [
    {
     "data": {
      "text/plain": [
       "add (generic function with 2 methods)"
      ]
     },
     "execution_count": 56,
     "metadata": {},
     "output_type": "execute_result"
    }
   ],
   "source": [
    "function add(x::Real, y...) # allows me to have any arguments as possible, aside that we are dealing with y's arguments inside the sum() function\n",
    "    x + sum(y)\n",
    "end"
   ]
  },
  {
   "cell_type": "code",
   "execution_count": 57,
   "id": "31993cd0-63d3-4088-bfde-17ad5ab173cc",
   "metadata": {},
   "outputs": [
    {
     "data": {
      "text/plain": [
       "9"
      ]
     },
     "execution_count": 57,
     "metadata": {},
     "output_type": "execute_result"
    }
   ],
   "source": [
    "add(4,5)"
   ]
  },
  {
   "cell_type": "code",
   "execution_count": 58,
   "id": "54fe147e-b884-4074-a896-4c4788ab915d",
   "metadata": {},
   "outputs": [
    {
     "data": {
      "text/plain": [
       "49"
      ]
     },
     "execution_count": 58,
     "metadata": {},
     "output_type": "execute_result"
    }
   ],
   "source": [
    "add(4,5,5,5,5,5,5,5,5,5)"
   ]
  },
  {
   "cell_type": "code",
   "execution_count": null,
   "id": "eb1ad3bd-5c56-43fd-ada1-1b93df5990ac",
   "metadata": {},
   "outputs": [],
   "source": []
  }
 ],
 "metadata": {
  "kernelspec": {
   "display_name": "Julia 1.7.3",
   "language": "julia",
   "name": "julia-1.7"
  },
  "language_info": {
   "file_extension": ".jl",
   "mimetype": "application/julia",
   "name": "julia",
   "version": "1.7.3"
  }
 },
 "nbformat": 4,
 "nbformat_minor": 5
}
