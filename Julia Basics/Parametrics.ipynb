{
 "cells": [
  {
   "cell_type": "markdown",
   "id": "f62ecd50-ad5b-4a00-8826-ff1a8ef6f5e4",
   "metadata": {},
   "source": [
    "using T of type we can make the codes more general, therefore we can assign different types to it when constructing the struct"
   ]
  },
  {
   "cell_type": "code",
   "execution_count": 1,
   "id": "aed08ee4-c316-48f9-84bb-bd5b0b9af46a",
   "metadata": {},
   "outputs": [],
   "source": [
    "abstract type Shape{T} end"
   ]
  },
  {
   "cell_type": "code",
   "execution_count": 2,
   "id": "26011fb6-fa10-46f7-842c-7bb19803fe1f",
   "metadata": {},
   "outputs": [],
   "source": [
    "struct Ellipse{T} <: Shape{T}\n",
    "    a::T\n",
    "    b::T\n",
    "end"
   ]
  },
  {
   "cell_type": "code",
   "execution_count": 10,
   "id": "6cfeb1f2-3ee2-4f3f-ad4e-3d74698fad99",
   "metadata": {},
   "outputs": [
    {
     "name": "stdout",
     "output_type": "stream",
     "text": [
      "4\n",
      "5\n"
     ]
    }
   ],
   "source": [
    "function main()\n",
    "    \n",
    "    e = Ellipse{Int64}(4,5)\n",
    "    \n",
    "    println(e.a)\n",
    "    println(e.b)\n",
    "    \n",
    "end\n",
    "\n",
    "main()"
   ]
  },
  {
   "cell_type": "code",
   "execution_count": null,
   "id": "4ddecbb7-5c7e-4c7f-a7b3-4bf8a1f8c6db",
   "metadata": {},
   "outputs": [],
   "source": []
  }
 ],
 "metadata": {
  "kernelspec": {
   "display_name": "Julia 1.7.3",
   "language": "julia",
   "name": "julia-1.7"
  },
  "language_info": {
   "file_extension": ".jl",
   "mimetype": "application/julia",
   "name": "julia",
   "version": "1.7.3"
  }
 },
 "nbformat": 4,
 "nbformat_minor": 5
}
