{
 "cells": [
  {
   "cell_type": "markdown",
   "id": "522cf58d-5490-41b6-b884-0483abf82876",
   "metadata": {},
   "source": [
    "Loop"
   ]
  },
  {
   "cell_type": "code",
   "execution_count": 2,
   "id": "169fe8d6-cc96-46b9-85e7-e6066cbedba5",
   "metadata": {},
   "outputs": [
    {
     "name": "stdout",
     "output_type": "stream",
     "text": [
      "1\n",
      "2\n",
      "3\n",
      "4\n",
      "5\n"
     ]
    }
   ],
   "source": [
    "for i in 1:5\n",
    "    println(i)\n",
    "end"
   ]
  },
  {
   "cell_type": "code",
   "execution_count": 11,
   "id": "61c85946-2c93-477f-9af0-fdb85919564a",
   "metadata": {},
   "outputs": [
    {
     "name": "stdout",
     "output_type": "stream",
     "text": [
      "0\n",
      "1\n",
      "2\n",
      "3\n",
      "4\n"
     ]
    }
   ],
   "source": [
    "i = 0\n",
    "\n",
    "while i < 5 \n",
    "    println(i)\n",
    "    #global i += 1\n",
    "    i += 1\n",
    "end"
   ]
  },
  {
   "cell_type": "code",
   "execution_count": 16,
   "id": "137855e8-78dc-4d67-a438-89a82906d1bd",
   "metadata": {},
   "outputs": [
    {
     "data": {
      "text/plain": [
       "3×4 Matrix{Float64}:\n",
       " 1.0  2.0  3.0  4.0\n",
       " 1.0  2.0  3.0  4.0\n",
       " 1.0  2.0  3.0  4.0"
      ]
     },
     "metadata": {},
     "output_type": "display_data"
    }
   ],
   "source": [
    "z = zeros(3,4)\n",
    "\n",
    "for c in 1:size(z,2) # Remember Julia is column dominant\n",
    "    for r in 1:size(z,1)\n",
    "        z[r,c] += c\n",
    "    end\n",
    "end\n",
    "\n",
    "display(z)"
   ]
  },
  {
   "cell_type": "code",
   "execution_count": 18,
   "id": "79beee88-35b1-4ec4-89a8-28c761806ba0",
   "metadata": {},
   "outputs": [
    {
     "data": {
      "text/plain": [
       "3×4 Matrix{Float64}:\n",
       " 1.0  1.0  1.0  1.0\n",
       " 2.0  2.0  2.0  2.0\n",
       " 3.0  3.0  3.0  3.0"
      ]
     },
     "metadata": {},
     "output_type": "display_data"
    }
   ],
   "source": [
    "z = zeros(3,4)\n",
    "\n",
    "for c in 1:size(z,2) # Remember Julia is column dominant\n",
    "    for r in 1:size(z,1)\n",
    "        z[r,c] += r\n",
    "    end\n",
    "end\n",
    "\n",
    "display(z)"
   ]
  },
  {
   "cell_type": "code",
   "execution_count": 20,
   "id": "250f3266-00f1-4663-920b-56c6c8138d63",
   "metadata": {},
   "outputs": [
    {
     "data": {
      "text/plain": [
       "4×4 Matrix{Float64}:\n",
       " 2.0  3.0  4.0  5.0\n",
       " 3.0  4.0  5.0  6.0\n",
       " 4.0  5.0  6.0  7.0\n",
       " 5.0  6.0  7.0  8.0"
      ]
     },
     "metadata": {},
     "output_type": "display_data"
    }
   ],
   "source": [
    "z = zeros(4,4)\n",
    "\n",
    "for c in 1:size(z,2) # Remember Julia is column dominant\n",
    "    for r in 1:size(z,1)\n",
    "        z[r,c] += c +r \n",
    "    end\n",
    "end\n",
    "\n",
    "display(z)"
   ]
  },
  {
   "cell_type": "code",
   "execution_count": null,
   "id": "82f1a6d9-9c14-46ed-8097-98959d3c74f2",
   "metadata": {},
   "outputs": [],
   "source": []
  }
 ],
 "metadata": {
  "kernelspec": {
   "display_name": "Julia 1.7.3",
   "language": "julia",
   "name": "julia-1.7"
  },
  "language_info": {
   "file_extension": ".jl",
   "mimetype": "application/julia",
   "name": "julia",
   "version": "1.7.3"
  }
 },
 "nbformat": 4,
 "nbformat_minor": 5
}
