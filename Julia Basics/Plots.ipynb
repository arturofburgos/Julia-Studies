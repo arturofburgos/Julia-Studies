{
 "cells": [
  {
   "cell_type": "code",
   "execution_count": 2,
   "id": "63135e8b-db2c-4ba3-b6fc-8c353be15cfa",
   "metadata": {},
   "outputs": [
    {
     "data": {
      "text/plain": [
       "Plots.GRBackend()"
      ]
     },
     "execution_count": 2,
     "metadata": {},
     "output_type": "execute_result"
    }
   ],
   "source": [
    "using Plots, Pkg\n",
    "\n",
    "gr() # faster backend"
   ]
  },
  {
   "cell_type": "code",
   "execution_count": 3,
   "id": "d0bcf8a6-12b7-48a4-972f-925e5032848c",
   "metadata": {},
   "outputs": [
    {
     "data": {
      "text/plain": [
       "0.0:0.005:1.0"
      ]
     },
     "execution_count": 3,
     "metadata": {},
     "output_type": "execute_result"
    }
   ],
   "source": [
    "x = 0:0.005:1"
   ]
  },
  {
   "cell_type": "code",
   "execution_count": 4,
   "id": "9d50b83a-917b-4779-a2a6-0a36617a3809",
   "metadata": {},
   "outputs": [
    {
     "data": {
      "text/plain": [
       "201-element Vector{Float64}:\n",
       " 0.0\n",
       " 0.005\n",
       " 0.01\n",
       " 0.015\n",
       " 0.02\n",
       " 0.025\n",
       " 0.03\n",
       " 0.035\n",
       " 0.04\n",
       " 0.045\n",
       " 0.05\n",
       " 0.055\n",
       " 0.06\n",
       " ⋮\n",
       " 0.945\n",
       " 0.95\n",
       " 0.955\n",
       " 0.96\n",
       " 0.965\n",
       " 0.97\n",
       " 0.975\n",
       " 0.98\n",
       " 0.985\n",
       " 0.99\n",
       " 0.995\n",
       " 1.0"
      ]
     },
     "execution_count": 4,
     "metadata": {},
     "output_type": "execute_result"
    }
   ],
   "source": [
    "x_vec = collect(x)"
   ]
  },
  {
   "cell_type": "code",
   "execution_count": 5,
   "id": "31b1ef84-9bb1-46a5-9e90-208378487461",
   "metadata": {},
   "outputs": [
    {
     "data": {
      "text/plain": [
       "201-element Vector{Float64}:\n",
       " 0.0\n",
       " 1.2500000000000002e-7\n",
       " 1.0000000000000002e-6\n",
       " 3.375e-6\n",
       " 8.000000000000001e-6\n",
       " 1.5625000000000004e-5\n",
       " 2.7e-5\n",
       " 4.287500000000001e-5\n",
       " 6.400000000000001e-5\n",
       " 9.112499999999999e-5\n",
       " 0.00012500000000000003\n",
       " 0.000166375\n",
       " 0.000216\n",
       " ⋮\n",
       " 0.843908625\n",
       " 0.8573749999999999\n",
       " 0.870983875\n",
       " 0.884736\n",
       " 0.8986321249999999\n",
       " 0.912673\n",
       " 0.9268593749999999\n",
       " 0.9411919999999999\n",
       " 0.955671625\n",
       " 0.9702989999999999\n",
       " 0.985074875\n",
       " 1.0"
      ]
     },
     "execution_count": 5,
     "metadata": {},
     "output_type": "execute_result"
    }
   ],
   "source": [
    "m = 1 \n",
    "b = 0\n",
    "f = m .* x_vec .+ b\n",
    "g = x_vec.^2 \n",
    "h = x_vec.^3"
   ]
  },
  {
   "cell_type": "code",
   "execution_count": 29,
   "id": "1d05d0ed-e51e-4473-880c-213c5c00de1b",
   "metadata": {},
   "outputs": [],
   "source": [
    "plot(x_vec,f, label = \"linear\", legend = :topleft, dpi = 300)\n",
    "plot!(x_vec,g, label = \"quadratic\")\n",
    "plot!(x_vec,h, label = \"cubic\")\n",
    "xaxis!(\"x [-]\")\n",
    "yaxis!(\"f(x) [-]\")\n",
    "title!(\"Polynomials\")\n",
    "\n",
    "\n",
    "savefig(\"figures/plot.png\")"
   ]
  },
  {
   "cell_type": "code",
   "execution_count": 10,
   "id": "4ec6a455-3ecb-4749-b70c-072a18b6d2fb",
   "metadata": {},
   "outputs": [],
   "source": [
    "p1 = plot(x_vec,f, label = \"linear\", legend = :topleft, title = \"Polynomials\")\n",
    "p2 = plot(x_vec,g, label = \"quadratic\", legend = :topleft)\n",
    "\n",
    "\n",
    "plot(p1,p2, layout=(2,1))\n",
    "xaxis!(\"x [-]\")\n",
    "yaxis!(\"f(x) [-]\")\n",
    "\n",
    "\n",
    "savefig(\"figures/subplot.png\")"
   ]
  },
  {
   "cell_type": "code",
   "execution_count": null,
   "id": "89961073-9886-4f25-8ed6-0f179d88f566",
   "metadata": {},
   "outputs": [],
   "source": []
  }
 ],
 "metadata": {
  "kernelspec": {
   "display_name": "Julia 1.7.3",
   "language": "julia",
   "name": "julia-1.7"
  },
  "language_info": {
   "file_extension": ".jl",
   "mimetype": "application/julia",
   "name": "julia",
   "version": "1.7.3"
  }
 },
 "nbformat": 4,
 "nbformat_minor": 5
}
